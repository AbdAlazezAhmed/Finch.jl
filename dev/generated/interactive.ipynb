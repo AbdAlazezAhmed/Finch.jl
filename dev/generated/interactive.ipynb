{
 "cells": [
  {
   "cell_type": "markdown",
   "source": [
    "It's easy to generate sparse code with Finch, give it a try!\n",
    "\n",
    "A note to visitors using Binder: it may take a minute or\n",
    "two to compile the first kernel, perhaps enjoy a nice little coffee break ^.^"
   ],
   "metadata": {}
  },
  {
   "outputs": [
    {
     "output_type": "execute_result",
     "data": {
      "text/plain": "quote\n    y = (ex.bodies[1]).tns.tns\n    A_lvl = ((ex.bodies[2]).body.body.rhs.args[1]).tns.tns.lvl\n    A_lvl_2 = A_lvl.lvl\n    x = ((ex.bodies[2]).body.body.rhs.args[2]).tns.tns\n    sugar_2 = size(x)\n    x_mode1_stop = sugar_2[1]\n    A_lvl.shape[2] == x_mode1_stop || throw(DimensionMismatch(\"mismatched dimension limits ($(A_lvl.shape[2]) != $(x_mode1_stop))\"))\n    sugar_4 = size(y)\n    y_mode1_stop = sugar_4[1]\n    1 == 1 || throw(DimensionMismatch(\"mismatched dimension start\"))\n    A_lvl.shape[1] == y_mode1_stop || throw(DimensionMismatch(\"mismatched dimension stop\"))\n    fill!(y, 0)\n    for i_4 = 1:A_lvl.shape[1]\n        A_lvl_q = A_lvl.ptr[1]\n        A_lvl_q_stop = A_lvl.ptr[1 + 1]\n        if A_lvl_q < A_lvl_q_stop\n            A_lvl_i_stop = (A_lvl.tbl[2])[A_lvl_q_stop - 1]\n        else\n            A_lvl_i_stop = 0\n        end\n        phase_stop = min(A_lvl.shape[2], A_lvl_i_stop)\n        if phase_stop >= 1\n            j = 1\n            if (A_lvl.tbl[2])[A_lvl_q] < 1\n                A_lvl_q = scansearch(A_lvl.tbl[2], 1, A_lvl_q, A_lvl_q_stop - 1)\n            end\n            while j <= phase_stop\n                A_lvl_i = (A_lvl.tbl[2])[A_lvl_q]\n                A_lvl_q_step = A_lvl_q\n                if (A_lvl.tbl[2])[A_lvl_q] == A_lvl_i\n                    A_lvl_q_step = scansearch(A_lvl.tbl[2], A_lvl_i + 1, A_lvl_q, A_lvl_q_stop - 1)\n                end\n                phase_stop_2 = min(phase_stop, A_lvl_i)\n                if A_lvl_i == phase_stop_2\n                    A_lvl_q_2 = A_lvl_q\n                    if A_lvl_q < A_lvl_q_step\n                        A_lvl_i_stop_2 = (A_lvl.tbl[1])[A_lvl_q_step - 1]\n                    else\n                        A_lvl_i_stop_2 = 0\n                    end\n                    phase_stop_3 = min(A_lvl_i_stop_2, i_4)\n                    if phase_stop_3 >= i_4\n                        s = i_4\n                        if (A_lvl.tbl[1])[A_lvl_q] < i_4\n                            A_lvl_q_2 = scansearch(A_lvl.tbl[1], i_4, A_lvl_q, A_lvl_q_step - 1)\n                        end\n                        while s <= phase_stop_3\n                            A_lvl_i_2 = (A_lvl.tbl[1])[A_lvl_q_2]\n                            phase_stop_4 = min(phase_stop_3, A_lvl_i_2)\n                            if A_lvl_i_2 == phase_stop_4\n                                A_lvl_2_val_2 = A_lvl_2.val[A_lvl_q_2]\n                                y[i_4] = y[i_4] + x[phase_stop_2] * A_lvl_2_val_2\n                                A_lvl_q_2 += 1\n                            end\n                            s = phase_stop_4 + 1\n                        end\n                    end\n                    A_lvl_q = A_lvl_q_step\n                end\n                j = phase_stop_2 + 1\n            end\n        end\n    end\n    (y = y,)\nend"
     },
     "metadata": {},
     "execution_count": 1
    }
   ],
   "cell_type": "code",
   "source": [
    "using Finch\n",
    "\n",
    "A = fsprand((10, 10), 0.5)\n",
    "\n",
    "x = rand(10)\n",
    "y = rand(10)\n",
    "\n",
    "@finch_code begin\n",
    "    y .= 0\n",
    "    for i = _, j = _\n",
    "        y[i] += A[i, j] * x[j]\n",
    "    end\n",
    "end"
   ],
   "metadata": {},
   "execution_count": 1
  },
  {
   "cell_type": "markdown",
   "source": [
    "---\n",
    "\n",
    "*This notebook was generated using [Literate.jl](https://github.com/fredrikekre/Literate.jl).*"
   ],
   "metadata": {}
  }
 ],
 "nbformat_minor": 3,
 "metadata": {
  "language_info": {
   "file_extension": ".jl",
   "mimetype": "application/julia",
   "name": "julia",
   "version": "1.8.5"
  },
  "kernelspec": {
   "name": "julia-1.8",
   "display_name": "Julia 1.8.5",
   "language": "julia"
  }
 },
 "nbformat": 4
}
